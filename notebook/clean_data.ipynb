{
 "cells": [
  {
   "cell_type": "markdown",
   "id": "db059490",
   "metadata": {},
   "source": [
    "# Cleaning Data Before Importing to MySQL"
   ]
  },
  {
   "cell_type": "code",
   "execution_count": 300,
   "id": "3d8b0a94",
   "metadata": {},
   "outputs": [],
   "source": [
    "import pandas as pd"
   ]
  },
  {
   "cell_type": "markdown",
   "id": "eda97266",
   "metadata": {},
   "source": [
    "### Load Data"
   ]
  },
  {
   "cell_type": "code",
   "execution_count": 301,
   "id": "06198124",
   "metadata": {},
   "outputs": [
    {
     "name": "stderr",
     "output_type": "stream",
     "text": [
      "/var/folders/h2/wwh3rz9d1nl8_gwmkdhj5r2c0000gn/T/ipykernel_15785/2123308185.py:2: DtypeWarning: Columns (10,22) have mixed types. Specify dtype option on import or set low_memory=False.\n",
      "  runs = pd.read_csv(\"data/runs.csv\")\n"
     ]
    }
   ],
   "source": [
    "ski_areas = pd.read_csv(\"data/ski_areas.csv\")\n",
    "runs = pd.read_csv(\"data/runs.csv\")"
   ]
  },
  {
   "cell_type": "code",
   "execution_count": 302,
   "id": "53e5253b",
   "metadata": {},
   "outputs": [
    {
     "name": "stdout",
     "output_type": "stream",
     "text": [
      "<class 'pandas.core.frame.DataFrame'>\n",
      "RangeIndex: 11650 entries, 0 to 11649\n",
      "Data columns (total 23 columns):\n",
      " #   Column                Non-Null Count  Dtype  \n",
      "---  ------                --------------  -----  \n",
      " 0   name                  6374 non-null   object \n",
      " 1   country               11645 non-null  object \n",
      " 2   region                9068 non-null   object \n",
      " 3   locality              10453 non-null  object \n",
      " 4   status                11435 non-null  object \n",
      " 5   has_downhill          11650 non-null  object \n",
      " 6   has_nordic            11650 non-null  object \n",
      " 7   downhill_distance_km  4660 non-null   float64\n",
      " 8   nordic_distance_km    5219 non-null   float64\n",
      " 9   vertical_m            10251 non-null  float64\n",
      " 10  min_elevation_m       10252 non-null  float64\n",
      " 11  max_elevation_m       10252 non-null  float64\n",
      " 12  lift_count            5257 non-null   float64\n",
      " 13  surface_lifts_count   4587 non-null   float64\n",
      " 14  run_convention        11650 non-null  object \n",
      " 15  wikidata_id           456 non-null    object \n",
      " 16  websites              4091 non-null   object \n",
      " 17  openskimap            11650 non-null  object \n",
      " 18  id                    11650 non-null  object \n",
      " 19  geometry              11650 non-null  object \n",
      " 20  lat                   11650 non-null  float64\n",
      " 21  lng                   11650 non-null  float64\n",
      " 22  sources               6452 non-null   object \n",
      "dtypes: float64(9), object(14)\n",
      "memory usage: 2.0+ MB\n"
     ]
    }
   ],
   "source": [
    "ski_areas.info()"
   ]
  },
  {
   "cell_type": "markdown",
   "id": "78f49548",
   "metadata": {},
   "source": [
    "### Drop rows where:\n",
    "- name is null\n",
    "- ski_area isn't operating\n",
    "- ski area that doesn't have downhill"
   ]
  },
  {
   "cell_type": "code",
   "execution_count": 303,
   "id": "65952264",
   "metadata": {},
   "outputs": [
    {
     "name": "stdout",
     "output_type": "stream",
     "text": [
      "name                       0\n",
      "country                    3\n",
      "region                  1203\n",
      "locality                 406\n",
      "status                     0\n",
      "has_downhill               0\n",
      "has_nordic                 0\n",
      "downhill_distance_km     855\n",
      "nordic_distance_km      4171\n",
      "vertical_m               337\n",
      "min_elevation_m          337\n",
      "max_elevation_m          337\n",
      "lift_count               508\n",
      "surface_lifts_count     1091\n",
      "run_convention             0\n",
      "wikidata_id             4114\n",
      "websites                1258\n",
      "openskimap                 0\n",
      "id                         0\n",
      "geometry                   0\n",
      "lat                        0\n",
      "lng                        0\n",
      "sources                    0\n",
      "dtype: int64\n"
     ]
    }
   ],
   "source": [
    "ski_areas_clean = ski_areas.dropna(subset=['name'])\n",
    "ski_areas_clean = ski_areas_clean[ski_areas_clean['status'] == 'operating']\n",
    "ski_areas_clean = ski_areas_clean[ski_areas_clean['has_downhill'] == 'yes']\n",
    "print(ski_areas_clean.isnull().sum())"
   ]
  },
  {
   "cell_type": "code",
   "execution_count": 304,
   "id": "07cea6a5",
   "metadata": {},
   "outputs": [
    {
     "data": {
      "text/html": [
       "<div>\n",
       "<style scoped>\n",
       "    .dataframe tbody tr th:only-of-type {\n",
       "        vertical-align: middle;\n",
       "    }\n",
       "\n",
       "    .dataframe tbody tr th {\n",
       "        vertical-align: top;\n",
       "    }\n",
       "\n",
       "    .dataframe thead th {\n",
       "        text-align: right;\n",
       "    }\n",
       "</style>\n",
       "<table border=\"1\" class=\"dataframe\">\n",
       "  <thead>\n",
       "    <tr style=\"text-align: right;\">\n",
       "      <th></th>\n",
       "      <th>downhill_distance_km</th>\n",
       "      <th>nordic_distance_km</th>\n",
       "      <th>vertical_m</th>\n",
       "      <th>min_elevation_m</th>\n",
       "      <th>max_elevation_m</th>\n",
       "      <th>lift_count</th>\n",
       "      <th>surface_lifts_count</th>\n",
       "      <th>lat</th>\n",
       "      <th>lng</th>\n",
       "    </tr>\n",
       "  </thead>\n",
       "  <tbody>\n",
       "    <tr>\n",
       "      <th>count</th>\n",
       "      <td>3707.000000</td>\n",
       "      <td>391.000000</td>\n",
       "      <td>4225.000000</td>\n",
       "      <td>4225.000000</td>\n",
       "      <td>4225.000000</td>\n",
       "      <td>4054.000000</td>\n",
       "      <td>3471.000000</td>\n",
       "      <td>4562.000000</td>\n",
       "      <td>4562.000000</td>\n",
       "    </tr>\n",
       "    <tr>\n",
       "      <th>mean</th>\n",
       "      <td>12.407607</td>\n",
       "      <td>46.370844</td>\n",
       "      <td>333.560237</td>\n",
       "      <td>862.115266</td>\n",
       "      <td>1195.675503</td>\n",
       "      <td>5.833744</td>\n",
       "      <td>3.717084</td>\n",
       "      <td>44.744606</td>\n",
       "      <td>15.460257</td>\n",
       "    </tr>\n",
       "    <tr>\n",
       "      <th>std</th>\n",
       "      <td>24.986154</td>\n",
       "      <td>124.203464</td>\n",
       "      <td>354.978043</td>\n",
       "      <td>616.277403</td>\n",
       "      <td>809.427144</td>\n",
       "      <td>8.517466</td>\n",
       "      <td>4.550649</td>\n",
       "      <td>14.285306</td>\n",
       "      <td>70.975835</td>\n",
       "    </tr>\n",
       "    <tr>\n",
       "      <th>min</th>\n",
       "      <td>0.000000</td>\n",
       "      <td>0.000000</td>\n",
       "      <td>-44.000000</td>\n",
       "      <td>-4.000000</td>\n",
       "      <td>1.000000</td>\n",
       "      <td>1.000000</td>\n",
       "      <td>1.000000</td>\n",
       "      <td>-77.820551</td>\n",
       "      <td>-151.491165</td>\n",
       "    </tr>\n",
       "    <tr>\n",
       "      <th>25%</th>\n",
       "      <td>1.000000</td>\n",
       "      <td>6.000000</td>\n",
       "      <td>88.000000</td>\n",
       "      <td>372.000000</td>\n",
       "      <td>550.000000</td>\n",
       "      <td>2.000000</td>\n",
       "      <td>1.000000</td>\n",
       "      <td>42.473203</td>\n",
       "      <td>5.979564</td>\n",
       "    </tr>\n",
       "    <tr>\n",
       "      <th>50%</th>\n",
       "      <td>5.000000</td>\n",
       "      <td>16.000000</td>\n",
       "      <td>199.000000</td>\n",
       "      <td>759.000000</td>\n",
       "      <td>1025.000000</td>\n",
       "      <td>4.000000</td>\n",
       "      <td>2.000000</td>\n",
       "      <td>46.526050</td>\n",
       "      <td>12.556860</td>\n",
       "    </tr>\n",
       "    <tr>\n",
       "      <th>75%</th>\n",
       "      <td>13.000000</td>\n",
       "      <td>37.500000</td>\n",
       "      <td>457.000000</td>\n",
       "      <td>1242.000000</td>\n",
       "      <td>1752.000000</td>\n",
       "      <td>7.000000</td>\n",
       "      <td>4.000000</td>\n",
       "      <td>49.411465</td>\n",
       "      <td>25.240518</td>\n",
       "    </tr>\n",
       "    <tr>\n",
       "      <th>max</th>\n",
       "      <td>528.000000</td>\n",
       "      <td>1495.000000</td>\n",
       "      <td>2675.000000</td>\n",
       "      <td>3577.000000</td>\n",
       "      <td>4507.000000</td>\n",
       "      <td>171.000000</td>\n",
       "      <td>81.000000</td>\n",
       "      <td>70.692335</td>\n",
       "      <td>175.601359</td>\n",
       "    </tr>\n",
       "  </tbody>\n",
       "</table>\n",
       "</div>"
      ],
      "text/plain": [
       "       downhill_distance_km  nordic_distance_km   vertical_m  min_elevation_m  \\\n",
       "count           3707.000000          391.000000  4225.000000      4225.000000   \n",
       "mean              12.407607           46.370844   333.560237       862.115266   \n",
       "std               24.986154          124.203464   354.978043       616.277403   \n",
       "min                0.000000            0.000000   -44.000000        -4.000000   \n",
       "25%                1.000000            6.000000    88.000000       372.000000   \n",
       "50%                5.000000           16.000000   199.000000       759.000000   \n",
       "75%               13.000000           37.500000   457.000000      1242.000000   \n",
       "max              528.000000         1495.000000  2675.000000      3577.000000   \n",
       "\n",
       "       max_elevation_m   lift_count  surface_lifts_count          lat  \\\n",
       "count      4225.000000  4054.000000          3471.000000  4562.000000   \n",
       "mean       1195.675503     5.833744             3.717084    44.744606   \n",
       "std         809.427144     8.517466             4.550649    14.285306   \n",
       "min           1.000000     1.000000             1.000000   -77.820551   \n",
       "25%         550.000000     2.000000             1.000000    42.473203   \n",
       "50%        1025.000000     4.000000             2.000000    46.526050   \n",
       "75%        1752.000000     7.000000             4.000000    49.411465   \n",
       "max        4507.000000   171.000000            81.000000    70.692335   \n",
       "\n",
       "               lng  \n",
       "count  4562.000000  \n",
       "mean     15.460257  \n",
       "std      70.975835  \n",
       "min    -151.491165  \n",
       "25%       5.979564  \n",
       "50%      12.556860  \n",
       "75%      25.240518  \n",
       "max     175.601359  "
      ]
     },
     "execution_count": 304,
     "metadata": {},
     "output_type": "execute_result"
    }
   ],
   "source": [
    "ski_areas_clean.describe()"
   ]
  },
  {
   "cell_type": "markdown",
   "id": "52ed06dc",
   "metadata": {},
   "source": [
    "### Keep only important or relevant columns"
   ]
  },
  {
   "cell_type": "code",
   "execution_count": 305,
   "id": "b82543db",
   "metadata": {},
   "outputs": [
    {
     "name": "stdout",
     "output_type": "stream",
     "text": [
      "<class 'pandas.core.frame.DataFrame'>\n",
      "Index: 4562 entries, 2 to 11649\n",
      "Data columns (total 16 columns):\n",
      " #   Column                Non-Null Count  Dtype  \n",
      "---  ------                --------------  -----  \n",
      " 0   id                    4562 non-null   object \n",
      " 1   name                  4562 non-null   object \n",
      " 2   country               4559 non-null   object \n",
      " 3   region                3359 non-null   object \n",
      " 4   downhill_distance_km  3707 non-null   float64\n",
      " 5   vertical_m            4225 non-null   float64\n",
      " 6   min_elevation_m       4225 non-null   float64\n",
      " 7   max_elevation_m       4225 non-null   float64\n",
      " 8   lift_count            4054 non-null   float64\n",
      " 9   run_convention        4562 non-null   object \n",
      " 10  openskimap            4562 non-null   object \n",
      " 11  geometry              4562 non-null   object \n",
      " 12  lat                   4562 non-null   float64\n",
      " 13  lng                   4562 non-null   float64\n",
      " 14  sources               4562 non-null   object \n",
      " 15  websites              3304 non-null   object \n",
      "dtypes: float64(7), object(9)\n",
      "memory usage: 605.9+ KB\n"
     ]
    }
   ],
   "source": [
    "ski_areas_clean = ski_areas_clean[\n",
    "    ['id', 'name', 'country', 'region', 'downhill_distance_km', 'vertical_m',\n",
    "     'min_elevation_m', 'max_elevation_m', 'lift_count',\n",
    "     'run_convention', 'openskimap', 'geometry', 'lat', 'lng', 'sources', 'websites']\n",
    "]\n",
    "ski_areas_clean.info()"
   ]
  },
  {
   "cell_type": "markdown",
   "id": "c214ade7",
   "metadata": {},
   "source": [
    "### Rename columns to match SQL schema"
   ]
  },
  {
   "cell_type": "code",
   "execution_count": 306,
   "id": "2dbef863",
   "metadata": {},
   "outputs": [
    {
     "name": "stdout",
     "output_type": "stream",
     "text": [
      "<class 'pandas.core.frame.DataFrame'>\n",
      "Index: 4562 entries, 2 to 11649\n",
      "Data columns (total 16 columns):\n",
      " #   Column              Non-Null Count  Dtype  \n",
      "---  ------              --------------  -----  \n",
      " 0   SkiAreaID           4562 non-null   object \n",
      " 1   Name                4562 non-null   object \n",
      " 2   Country             4559 non-null   object \n",
      " 3   Region              3359 non-null   object \n",
      " 4   DownhillDistanceKm  3707 non-null   float64\n",
      " 5   VerticalM           4225 non-null   float64\n",
      " 6   MinElevationM       4225 non-null   float64\n",
      " 7   MaxElevationM       4225 non-null   float64\n",
      " 8   LiftCount           4054 non-null   float64\n",
      " 9   RunConvention       4562 non-null   object \n",
      " 10  OpenSkiMap          4562 non-null   object \n",
      " 11  Geometry            4562 non-null   object \n",
      " 12  Latitude            4562 non-null   float64\n",
      " 13  Longitude           4562 non-null   float64\n",
      " 14  Sources             4562 non-null   object \n",
      " 15  websites            3304 non-null   object \n",
      "dtypes: float64(7), object(9)\n",
      "memory usage: 605.9+ KB\n"
     ]
    }
   ],
   "source": [
    "ski_areas_clean.rename(columns={\n",
    "    'id': 'SkiAreaID',\n",
    "    'name': 'Name',\n",
    "    'country': 'Country',\n",
    "    'region': 'Region',\n",
    "    'downhill_distance_km': 'DownhillDistanceKm',\n",
    "    'vertical_m': 'VerticalM',\n",
    "    'min_elevation_m': 'MinElevationM',\n",
    "    'max_elevation_m': 'MaxElevationM',\n",
    "    'lift_count': 'LiftCount',\n",
    "    'run_convention': 'RunConvention',\n",
    "    'openskimap': 'OpenSkiMap',\n",
    "    'geometry': 'Geometry',\n",
    "    'lat': 'Latitude',\n",
    "    'lng': 'Longitude',\n",
    "    'sources': 'Sources'\n",
    "}, inplace=True)\n",
    "ski_areas_clean.info()"
   ]
  },
  {
   "cell_type": "markdown",
   "id": "a128ab6a",
   "metadata": {},
   "source": [
    "### Handle multi-value websites"
   ]
  },
  {
   "cell_type": "code",
   "execution_count": 307,
   "id": "8dacfcdd",
   "metadata": {},
   "outputs": [
    {
     "name": "stdout",
     "output_type": "stream",
     "text": [
      "<class 'pandas.core.frame.DataFrame'>\n",
      "Index: 4562 entries, 2 to 11649\n",
      "Data columns (total 15 columns):\n",
      " #   Column              Non-Null Count  Dtype  \n",
      "---  ------              --------------  -----  \n",
      " 0   SkiAreaID           4562 non-null   object \n",
      " 1   Name                4562 non-null   object \n",
      " 2   Country             4559 non-null   object \n",
      " 3   Region              3359 non-null   object \n",
      " 4   DownhillDistanceKm  3707 non-null   float64\n",
      " 5   VerticalM           4225 non-null   float64\n",
      " 6   MinElevationM       4225 non-null   float64\n",
      " 7   MaxElevationM       4225 non-null   float64\n",
      " 8   LiftCount           4054 non-null   float64\n",
      " 9   RunConvention       4562 non-null   object \n",
      " 10  OpenSkiMap          4562 non-null   object \n",
      " 11  Geometry            4562 non-null   object \n",
      " 12  Latitude            4562 non-null   float64\n",
      " 13  Longitude           4562 non-null   float64\n",
      " 14  Sources             4562 non-null   object \n",
      "dtypes: float64(7), object(8)\n",
      "memory usage: 570.2+ KB\n"
     ]
    }
   ],
   "source": [
    "websites = ski_areas_clean[['SkiAreaID', 'websites']].dropna()\n",
    "\n",
    "# Expand\n",
    "websites_expanded = websites.assign(WebsiteURL=websites['websites'].str.split(' ')).explode('WebsiteURL')\n",
    "\n",
    "# Drop original websites column\n",
    "ski_areas_clean = ski_areas_clean.drop(columns=['websites'])\n",
    "ski_areas_clean.info()"
   ]
  },
  {
   "cell_type": "code",
   "execution_count": 308,
   "id": "5d7b8a72",
   "metadata": {},
   "outputs": [
    {
     "data": {
      "text/html": [
       "<div>\n",
       "<style scoped>\n",
       "    .dataframe tbody tr th:only-of-type {\n",
       "        vertical-align: middle;\n",
       "    }\n",
       "\n",
       "    .dataframe tbody tr th {\n",
       "        vertical-align: top;\n",
       "    }\n",
       "\n",
       "    .dataframe thead th {\n",
       "        text-align: right;\n",
       "    }\n",
       "</style>\n",
       "<table border=\"1\" class=\"dataframe\">\n",
       "  <thead>\n",
       "    <tr style=\"text-align: right;\">\n",
       "      <th></th>\n",
       "      <th>SkiAreaID</th>\n",
       "      <th>websites</th>\n",
       "      <th>WebsiteURL</th>\n",
       "    </tr>\n",
       "  </thead>\n",
       "  <tbody>\n",
       "    <tr>\n",
       "      <th>32</th>\n",
       "      <td>0c7062e49b3e3cf91a13fa96011621b1d6510743</td>\n",
       "      <td>https://www.skipalkovice.cz/</td>\n",
       "      <td>https://www.skipalkovice.cz/</td>\n",
       "    </tr>\n",
       "    <tr>\n",
       "      <th>33</th>\n",
       "      <td>d611596d538522840af2dcaa1039c843689058d1</td>\n",
       "      <td>https://www.visalajevlek.cz/</td>\n",
       "      <td>https://www.visalajevlek.cz/</td>\n",
       "    </tr>\n",
       "    <tr>\n",
       "      <th>34</th>\n",
       "      <td>d6a46672dab492d8248ecafa1aa1b1e58a6686ff</td>\n",
       "      <td>http://www.visalaje.cz/areal.php</td>\n",
       "      <td>http://www.visalaje.cz/areal.php</td>\n",
       "    </tr>\n",
       "    <tr>\n",
       "      <th>35</th>\n",
       "      <td>44d1d0f69ac22917d902e18a332eea3f23f4020f</td>\n",
       "      <td>http://www.fela-zlatnik.cz/</td>\n",
       "      <td>http://www.fela-zlatnik.cz/</td>\n",
       "    </tr>\n",
       "    <tr>\n",
       "      <th>36</th>\n",
       "      <td>b99e695bf42a9081411bf56eac0ab627fe836ecd</td>\n",
       "      <td>http://www.skizlatnik.cz/</td>\n",
       "      <td>http://www.skizlatnik.cz/</td>\n",
       "    </tr>\n",
       "  </tbody>\n",
       "</table>\n",
       "</div>"
      ],
      "text/plain": [
       "                                   SkiAreaID  \\\n",
       "32  0c7062e49b3e3cf91a13fa96011621b1d6510743   \n",
       "33  d611596d538522840af2dcaa1039c843689058d1   \n",
       "34  d6a46672dab492d8248ecafa1aa1b1e58a6686ff   \n",
       "35  44d1d0f69ac22917d902e18a332eea3f23f4020f   \n",
       "36  b99e695bf42a9081411bf56eac0ab627fe836ecd   \n",
       "\n",
       "                            websites                        WebsiteURL  \n",
       "32      https://www.skipalkovice.cz/      https://www.skipalkovice.cz/  \n",
       "33      https://www.visalajevlek.cz/      https://www.visalajevlek.cz/  \n",
       "34  http://www.visalaje.cz/areal.php  http://www.visalaje.cz/areal.php  \n",
       "35       http://www.fela-zlatnik.cz/       http://www.fela-zlatnik.cz/  \n",
       "36         http://www.skizlatnik.cz/         http://www.skizlatnik.cz/  "
      ]
     },
     "execution_count": 308,
     "metadata": {},
     "output_type": "execute_result"
    }
   ],
   "source": [
    "websites_expanded.head(5)"
   ]
  },
  {
   "cell_type": "code",
   "execution_count": 309,
   "id": "c8e4dfd0",
   "metadata": {},
   "outputs": [
    {
     "data": {
      "text/html": [
       "<div>\n",
       "<style scoped>\n",
       "    .dataframe tbody tr th:only-of-type {\n",
       "        vertical-align: middle;\n",
       "    }\n",
       "\n",
       "    .dataframe tbody tr th {\n",
       "        vertical-align: top;\n",
       "    }\n",
       "\n",
       "    .dataframe thead th {\n",
       "        text-align: right;\n",
       "    }\n",
       "</style>\n",
       "<table border=\"1\" class=\"dataframe\">\n",
       "  <thead>\n",
       "    <tr style=\"text-align: right;\">\n",
       "      <th></th>\n",
       "      <th>SkiAreaID</th>\n",
       "      <th>WebsiteURL</th>\n",
       "    </tr>\n",
       "  </thead>\n",
       "  <tbody>\n",
       "    <tr>\n",
       "      <th>32</th>\n",
       "      <td>0c7062e49b3e3cf91a13fa96011621b1d6510743</td>\n",
       "      <td>https://www.skipalkovice.cz/</td>\n",
       "    </tr>\n",
       "    <tr>\n",
       "      <th>33</th>\n",
       "      <td>d611596d538522840af2dcaa1039c843689058d1</td>\n",
       "      <td>https://www.visalajevlek.cz/</td>\n",
       "    </tr>\n",
       "    <tr>\n",
       "      <th>34</th>\n",
       "      <td>d6a46672dab492d8248ecafa1aa1b1e58a6686ff</td>\n",
       "      <td>http://www.visalaje.cz/areal.php</td>\n",
       "    </tr>\n",
       "    <tr>\n",
       "      <th>35</th>\n",
       "      <td>44d1d0f69ac22917d902e18a332eea3f23f4020f</td>\n",
       "      <td>http://www.fela-zlatnik.cz/</td>\n",
       "    </tr>\n",
       "    <tr>\n",
       "      <th>36</th>\n",
       "      <td>b99e695bf42a9081411bf56eac0ab627fe836ecd</td>\n",
       "      <td>http://www.skizlatnik.cz/</td>\n",
       "    </tr>\n",
       "  </tbody>\n",
       "</table>\n",
       "</div>"
      ],
      "text/plain": [
       "                                   SkiAreaID                        WebsiteURL\n",
       "32  0c7062e49b3e3cf91a13fa96011621b1d6510743      https://www.skipalkovice.cz/\n",
       "33  d611596d538522840af2dcaa1039c843689058d1      https://www.visalajevlek.cz/\n",
       "34  d6a46672dab492d8248ecafa1aa1b1e58a6686ff  http://www.visalaje.cz/areal.php\n",
       "35  44d1d0f69ac22917d902e18a332eea3f23f4020f       http://www.fela-zlatnik.cz/\n",
       "36  b99e695bf42a9081411bf56eac0ab627fe836ecd         http://www.skizlatnik.cz/"
      ]
     },
     "execution_count": 309,
     "metadata": {},
     "output_type": "execute_result"
    }
   ],
   "source": [
    "websites_expanded = websites_expanded[['SkiAreaID', 'WebsiteURL']]\n",
    "websites_expanded.head(5)"
   ]
  },
  {
   "cell_type": "markdown",
   "id": "04c5e35c",
   "metadata": {},
   "source": [
    "### Handle multi-value name"
   ]
  },
  {
   "cell_type": "code",
   "execution_count": 310,
   "id": "09967912",
   "metadata": {},
   "outputs": [
    {
     "name": "stdout",
     "output_type": "stream",
     "text": [
      "<class 'pandas.core.frame.DataFrame'>\n",
      "Index: 4562 entries, 2 to 11649\n",
      "Data columns (total 14 columns):\n",
      " #   Column              Non-Null Count  Dtype  \n",
      "---  ------              --------------  -----  \n",
      " 0   SkiAreaID           4562 non-null   object \n",
      " 1   Country             4559 non-null   object \n",
      " 2   Region              3359 non-null   object \n",
      " 3   DownhillDistanceKm  3707 non-null   float64\n",
      " 4   VerticalM           4225 non-null   float64\n",
      " 5   MinElevationM       4225 non-null   float64\n",
      " 6   MaxElevationM       4225 non-null   float64\n",
      " 7   LiftCount           4054 non-null   float64\n",
      " 8   RunConvention       4562 non-null   object \n",
      " 9   OpenSkiMap          4562 non-null   object \n",
      " 10  Geometry            4562 non-null   object \n",
      " 11  Latitude            4562 non-null   float64\n",
      " 12  Longitude           4562 non-null   float64\n",
      " 13  Sources             4562 non-null   object \n",
      "dtypes: float64(7), object(7)\n",
      "memory usage: 534.6+ KB\n"
     ]
    }
   ],
   "source": [
    "names = ski_areas_clean[['SkiAreaID', 'Name']].dropna()\n",
    "\n",
    "# Split on commas\n",
    "names_expanded = names.assign(Name=names['Name'].str.split(',')).explode('Name')\n",
    "\n",
    "# Strip whitespace (only ends)\n",
    "names_expanded['Name'] = names_expanded['Name'].str.strip()\n",
    "\n",
    "ski_areas_clean = ski_areas_clean.drop(columns=['Name'])\n",
    "ski_areas_clean.info()"
   ]
  },
  {
   "cell_type": "code",
   "execution_count": 311,
   "id": "8f879b63",
   "metadata": {},
   "outputs": [
    {
     "data": {
      "text/html": [
       "<div>\n",
       "<style scoped>\n",
       "    .dataframe tbody tr th:only-of-type {\n",
       "        vertical-align: middle;\n",
       "    }\n",
       "\n",
       "    .dataframe tbody tr th {\n",
       "        vertical-align: top;\n",
       "    }\n",
       "\n",
       "    .dataframe thead th {\n",
       "        text-align: right;\n",
       "    }\n",
       "</style>\n",
       "<table border=\"1\" class=\"dataframe\">\n",
       "  <thead>\n",
       "    <tr style=\"text-align: right;\">\n",
       "      <th></th>\n",
       "      <th>SkiAreaID</th>\n",
       "      <th>Name</th>\n",
       "    </tr>\n",
       "  </thead>\n",
       "  <tbody>\n",
       "    <tr>\n",
       "      <th>2</th>\n",
       "      <td>f9a7b501ed966ed140fc2b5290e472c0a825d9be</td>\n",
       "      <td>Cauterets Pont d'Espagne</td>\n",
       "    </tr>\n",
       "    <tr>\n",
       "      <th>7</th>\n",
       "      <td>17b19c745f7d69545421bdb985f0b981abfc70ae</td>\n",
       "      <td>Grindelwald - Männlichen (Schlittelpiste)</td>\n",
       "    </tr>\n",
       "    <tr>\n",
       "      <th>9</th>\n",
       "      <td>a005d05d07127924ceabfd883cef8041c3432356</td>\n",
       "      <td>El Morredero</td>\n",
       "    </tr>\n",
       "    <tr>\n",
       "      <th>10</th>\n",
       "      <td>29248afecbb89253d31145bb08025956c1bfb71a</td>\n",
       "      <td>Warth-Schröcken</td>\n",
       "    </tr>\n",
       "    <tr>\n",
       "      <th>11</th>\n",
       "      <td>66e672470add74c3e6a2bd8d4c1bb07cc4721728</td>\n",
       "      <td>St. Anton/St. Christoph/Stuben</td>\n",
       "    </tr>\n",
       "  </tbody>\n",
       "</table>\n",
       "</div>"
      ],
      "text/plain": [
       "                                   SkiAreaID  \\\n",
       "2   f9a7b501ed966ed140fc2b5290e472c0a825d9be   \n",
       "7   17b19c745f7d69545421bdb985f0b981abfc70ae   \n",
       "9   a005d05d07127924ceabfd883cef8041c3432356   \n",
       "10  29248afecbb89253d31145bb08025956c1bfb71a   \n",
       "11  66e672470add74c3e6a2bd8d4c1bb07cc4721728   \n",
       "\n",
       "                                         Name  \n",
       "2                    Cauterets Pont d'Espagne  \n",
       "7   Grindelwald - Männlichen (Schlittelpiste)  \n",
       "9                                El Morredero  \n",
       "10                            Warth-Schröcken  \n",
       "11             St. Anton/St. Christoph/Stuben  "
      ]
     },
     "execution_count": 311,
     "metadata": {},
     "output_type": "execute_result"
    }
   ],
   "source": [
    "names_expanded.head(5)"
   ]
  },
  {
   "cell_type": "markdown",
   "id": "b21ac9e8",
   "metadata": {},
   "source": [
    "### Clean runs"
   ]
  },
  {
   "cell_type": "code",
   "execution_count": 312,
   "id": "6391825c",
   "metadata": {},
   "outputs": [
    {
     "name": "stdout",
     "output_type": "stream",
     "text": [
      "<class 'pandas.core.frame.DataFrame'>\n",
      "RangeIndex: 209970 entries, 0 to 209969\n",
      "Data columns (total 32 columns):\n",
      " #   Column                 Non-Null Count   Dtype  \n",
      "---  ------                 --------------   -----  \n",
      " 0   name                   130332 non-null  object \n",
      " 1   ref                    28131 non-null   object \n",
      " 2   country                176815 non-null  object \n",
      " 3   region                 140892 non-null  object \n",
      " 4   locality               157012 non-null  object \n",
      " 5   ski_area_names         127345 non-null  object \n",
      " 6   difficulty             154839 non-null  object \n",
      " 7   color                  209970 non-null  object \n",
      " 8   oneway                 119893 non-null  object \n",
      " 9   lit                    36457 non-null   object \n",
      " 10  gladed                 1515 non-null    object \n",
      " 11  patrolled              1033 non-null    object \n",
      " 12  grooming               114064 non-null  object \n",
      " 13  uses                   209970 non-null  object \n",
      " 14  inclined_length_m      198396 non-null  float64\n",
      " 15  descent_m              198396 non-null  float64\n",
      " 16  ascent_m               198396 non-null  float64\n",
      " 17  average_pitch_%        195396 non-null  float64\n",
      " 18  max_pitch_%            195396 non-null  float64\n",
      " 19  min_elevation_m        198396 non-null  float64\n",
      " 20  max_elevation_m        198396 non-null  float64\n",
      " 21  difficulty_convention  209970 non-null  object \n",
      " 22  wikidata_id            423 non-null     object \n",
      " 23  websites               8252 non-null    object \n",
      " 24  openskimap             209970 non-null  object \n",
      " 25  id                     209970 non-null  object \n",
      " 26  geometry               209970 non-null  object \n",
      " 27  lat                    209970 non-null  float64\n",
      " 28  lng                    209970 non-null  float64\n",
      " 29  ski_area_ids           176822 non-null  object \n",
      " 30  sources                209970 non-null  object \n",
      " 31  description            5496 non-null    object \n",
      "dtypes: float64(9), object(23)\n",
      "memory usage: 51.3+ MB\n"
     ]
    }
   ],
   "source": [
    "runs.info()"
   ]
  },
  {
   "cell_type": "code",
   "execution_count": 313,
   "id": "68f33d05",
   "metadata": {},
   "outputs": [
    {
     "name": "stdout",
     "output_type": "stream",
     "text": [
      "<class 'pandas.core.frame.DataFrame'>\n",
      "Index: 110418 entries, 2 to 209967\n",
      "Data columns (total 32 columns):\n",
      " #   Column                 Non-Null Count   Dtype  \n",
      "---  ------                 --------------   -----  \n",
      " 0   name                   110418 non-null  object \n",
      " 1   ref                    22305 non-null   object \n",
      " 2   country                110418 non-null  object \n",
      " 3   region                 92621 non-null   object \n",
      " 4   locality               93907 non-null   object \n",
      " 5   ski_area_names         85965 non-null   object \n",
      " 6   difficulty             97653 non-null   object \n",
      " 7   color                  110418 non-null  object \n",
      " 8   oneway                 73677 non-null   object \n",
      " 9   lit                    22486 non-null   object \n",
      " 10  gladed                 819 non-null     object \n",
      " 11  patrolled              623 non-null     object \n",
      " 12  grooming               60965 non-null   object \n",
      " 13  uses                   110418 non-null  object \n",
      " 14  inclined_length_m      106124 non-null  float64\n",
      " 15  descent_m              106124 non-null  float64\n",
      " 16  ascent_m               106124 non-null  float64\n",
      " 17  average_pitch_%        104863 non-null  float64\n",
      " 18  max_pitch_%            104863 non-null  float64\n",
      " 19  min_elevation_m        106124 non-null  float64\n",
      " 20  max_elevation_m        106124 non-null  float64\n",
      " 21  difficulty_convention  110418 non-null  object \n",
      " 22  wikidata_id            333 non-null     object \n",
      " 23  websites               7093 non-null    object \n",
      " 24  openskimap             110418 non-null  object \n",
      " 25  id                     110418 non-null  object \n",
      " 26  geometry               110418 non-null  object \n",
      " 27  lat                    110418 non-null  float64\n",
      " 28  lng                    110418 non-null  float64\n",
      " 29  ski_area_ids           110418 non-null  object \n",
      " 30  sources                110418 non-null  object \n",
      " 31  description            3620 non-null    object \n",
      "dtypes: float64(9), object(23)\n",
      "memory usage: 27.8+ MB\n"
     ]
    }
   ],
   "source": [
    "runs_clean = runs.dropna(subset=['name'])\n",
    "\n",
    "runs_clean = runs_clean.dropna(subset=['ski_area_ids'])\n",
    "\n",
    "runs_clean.info()"
   ]
  },
  {
   "cell_type": "code",
   "execution_count": 314,
   "id": "433d84bf",
   "metadata": {},
   "outputs": [
    {
     "name": "stdout",
     "output_type": "stream",
     "text": [
      "<class 'pandas.core.frame.DataFrame'>\n",
      "Index: 110418 entries, 2 to 209967\n",
      "Data columns (total 19 columns):\n",
      " #   Column                 Non-Null Count   Dtype  \n",
      "---  ------                 --------------   -----  \n",
      " 0   id                     110418 non-null  object \n",
      " 1   country                110418 non-null  object \n",
      " 2   region                 92621 non-null   object \n",
      " 3   difficulty             97653 non-null   object \n",
      " 4   color                  110418 non-null  object \n",
      " 5   lit                    22486 non-null   object \n",
      " 6   inclined_length_m      106124 non-null  float64\n",
      " 7   descent_m              106124 non-null  float64\n",
      " 8   average_pitch_%        104863 non-null  float64\n",
      " 9   max_pitch_%            104863 non-null  float64\n",
      " 10  min_elevation_m        106124 non-null  float64\n",
      " 11  max_elevation_m        106124 non-null  float64\n",
      " 12  difficulty_convention  110418 non-null  object \n",
      " 13  openskimap             110418 non-null  object \n",
      " 14  geometry               110418 non-null  object \n",
      " 15  lat                    110418 non-null  float64\n",
      " 16  lng                    110418 non-null  float64\n",
      " 17  sources                110418 non-null  object \n",
      " 18  name                   110418 non-null  object \n",
      "dtypes: float64(8), object(11)\n",
      "memory usage: 16.8+ MB\n"
     ]
    }
   ],
   "source": [
    "runs_clean = runs_clean[\n",
    "    ['id', 'country', 'region', 'difficulty', 'color', 'lit',\n",
    "     'inclined_length_m', 'descent_m', 'average_pitch_%', 'max_pitch_%',\n",
    "     'min_elevation_m', 'max_elevation_m', 'difficulty_convention',\n",
    "     'openskimap', 'geometry', 'lat', 'lng', 'sources', 'name']\n",
    "]\n",
    "runs_clean.info()"
   ]
  },
  {
   "cell_type": "markdown",
   "id": "442c3ffd",
   "metadata": {},
   "source": [
    "### Rename to match SQL schema"
   ]
  },
  {
   "cell_type": "code",
   "execution_count": 315,
   "id": "5e6551b8",
   "metadata": {},
   "outputs": [
    {
     "name": "stdout",
     "output_type": "stream",
     "text": [
      "<class 'pandas.core.frame.DataFrame'>\n",
      "Index: 110418 entries, 2 to 209967\n",
      "Data columns (total 19 columns):\n",
      " #   Column                Non-Null Count   Dtype  \n",
      "---  ------                --------------   -----  \n",
      " 0   RunID                 110418 non-null  object \n",
      " 1   Country               110418 non-null  object \n",
      " 2   Region                92621 non-null   object \n",
      " 3   Difficulty            97653 non-null   object \n",
      " 4   Color                 110418 non-null  object \n",
      " 5   Lit                   22486 non-null   object \n",
      " 6   InclinedLengthM       106124 non-null  float64\n",
      " 7   DescentM              106124 non-null  float64\n",
      " 8   AveragePitch          104863 non-null  float64\n",
      " 9   MaxPitch              104863 non-null  float64\n",
      " 10  MinElevationM         106124 non-null  float64\n",
      " 11  MaxElevationM         106124 non-null  float64\n",
      " 12  DifficultyConvention  110418 non-null  object \n",
      " 13  OpenSkiMap            110418 non-null  object \n",
      " 14  Geometry              110418 non-null  object \n",
      " 15  Latitude              110418 non-null  float64\n",
      " 16  Longitude             110418 non-null  float64\n",
      " 17  Sources               110418 non-null  object \n",
      " 18  name                  110418 non-null  object \n",
      "dtypes: float64(8), object(11)\n",
      "memory usage: 16.8+ MB\n"
     ]
    }
   ],
   "source": [
    "runs_clean.rename(columns={\n",
    "    'id': 'RunID',\n",
    "    'country': 'Country',\n",
    "    'region': 'Region',\n",
    "    'difficulty': 'Difficulty',\n",
    "    'color': 'Color',\n",
    "    'lit': 'Lit',\n",
    "    'inclined_length_m': 'InclinedLengthM',\n",
    "    'descent_m': 'DescentM',\n",
    "    'average_pitch_%': 'AveragePitch',\n",
    "    'max_pitch_%': 'MaxPitch',\n",
    "    'min_elevation_m': 'MinElevationM',\n",
    "    'max_elevation_m': 'MaxElevationM',\n",
    "    'difficulty_convention': 'DifficultyConvention',\n",
    "    'openskimap': 'OpenSkiMap',\n",
    "    'geometry': 'Geometry',\n",
    "    'lat': 'Latitude',\n",
    "    'lng': 'Longitude',\n",
    "    'sources': 'Sources'\n",
    "}, inplace=True)\n",
    "runs_clean.info()"
   ]
  },
  {
   "cell_type": "markdown",
   "id": "1bdecaa7",
   "metadata": {},
   "source": [
    "### Preprocess Lit from yes/no to boolean and null"
   ]
  },
  {
   "cell_type": "code",
   "execution_count": 316,
   "id": "4d8be31c",
   "metadata": {},
   "outputs": [
    {
     "name": "stdout",
     "output_type": "stream",
     "text": [
      "[nan 1 0]\n"
     ]
    }
   ],
   "source": [
    "runs_clean['Lit'] = runs_clean['Lit'].map({'yes': 1, 'no': 0, '': pd.NA})\n",
    "print(runs_clean['Lit'].unique())"
   ]
  },
  {
   "cell_type": "markdown",
   "id": "a2720b5b",
   "metadata": {},
   "source": [
    "### Fill nulls in numeric attributes\n"
   ]
  },
  {
   "cell_type": "code",
   "execution_count": 317,
   "id": "6ba5ccd2",
   "metadata": {},
   "outputs": [],
   "source": [
    "# Replace '' with NaN only in numeric columns\n",
    "numeric_cols_areas = ['DownhillDistanceKm', 'VerticalM', 'MinElevationM', 'MaxElevationM', 'LiftCount']\n",
    "numeric_cols_runs = ['InclinedLengthM', 'DescentM', 'AveragePitch', 'MaxPitch', 'MinElevationM', 'MaxElevationM']\n",
    "\n",
    "ski_areas_clean[numeric_cols_areas] = ski_areas_clean[numeric_cols_areas].replace('', pd.NA)\n",
    "runs_clean[numeric_cols_runs] = runs_clean[numeric_cols_runs].replace('', pd.NA)"
   ]
  },
  {
   "cell_type": "markdown",
   "id": "270bb5df",
   "metadata": {},
   "source": [
    "### Expand into RunName table"
   ]
  },
  {
   "cell_type": "code",
   "execution_count": 318,
   "id": "c071bf9d",
   "metadata": {},
   "outputs": [
    {
     "data": {
      "text/html": [
       "<div>\n",
       "<style scoped>\n",
       "    .dataframe tbody tr th:only-of-type {\n",
       "        vertical-align: middle;\n",
       "    }\n",
       "\n",
       "    .dataframe tbody tr th {\n",
       "        vertical-align: top;\n",
       "    }\n",
       "\n",
       "    .dataframe thead th {\n",
       "        text-align: right;\n",
       "    }\n",
       "</style>\n",
       "<table border=\"1\" class=\"dataframe\">\n",
       "  <thead>\n",
       "    <tr style=\"text-align: right;\">\n",
       "      <th></th>\n",
       "      <th>RunID</th>\n",
       "      <th>Name</th>\n",
       "    </tr>\n",
       "  </thead>\n",
       "  <tbody>\n",
       "    <tr>\n",
       "      <th>2</th>\n",
       "      <td>816fe1b909837e79b04749efadbf7e56f23d9df7</td>\n",
       "      <td>Öjberget</td>\n",
       "    </tr>\n",
       "    <tr>\n",
       "      <th>4</th>\n",
       "      <td>a6fa9e8715bb087b5be2d01244285c4c63508016</td>\n",
       "      <td>Ribnica na Pohorju</td>\n",
       "    </tr>\n",
       "    <tr>\n",
       "      <th>5</th>\n",
       "      <td>ec31d29cea49dddee38ce898b0b1fd8a2f989c60</td>\n",
       "      <td>Pisker</td>\n",
       "    </tr>\n",
       "    <tr>\n",
       "      <th>6</th>\n",
       "      <td>dbbb079542f37dabb36d3b089f83362705fff4fc</td>\n",
       "      <td>Ruška</td>\n",
       "    </tr>\n",
       "    <tr>\n",
       "      <th>9</th>\n",
       "      <td>113f5658dcb41d9b6795f0446a42b66b4e132282</td>\n",
       "      <td>Stade de Slalom</td>\n",
       "    </tr>\n",
       "  </tbody>\n",
       "</table>\n",
       "</div>"
      ],
      "text/plain": [
       "                                      RunID                Name\n",
       "2  816fe1b909837e79b04749efadbf7e56f23d9df7            Öjberget\n",
       "4  a6fa9e8715bb087b5be2d01244285c4c63508016  Ribnica na Pohorju\n",
       "5  ec31d29cea49dddee38ce898b0b1fd8a2f989c60              Pisker\n",
       "6  dbbb079542f37dabb36d3b089f83362705fff4fc               Ruška\n",
       "9  113f5658dcb41d9b6795f0446a42b66b4e132282     Stade de Slalom"
      ]
     },
     "execution_count": 318,
     "metadata": {},
     "output_type": "execute_result"
    }
   ],
   "source": [
    "run_names = runs_clean[['RunID', 'name']].dropna()\n",
    "\n",
    "run_names_expanded = run_names.assign(Name=run_names['name'].str.split(',')).explode('Name')\n",
    "\n",
    "run_names_expanded['Name'] = run_names_expanded['Name'].str.strip()\n",
    "\n",
    "runs_clean = runs_clean.drop(columns=['name'])\n",
    "run_names_expanded = run_names_expanded.drop(columns=['name'])\n",
    "\n",
    "run_names_expanded.head(5)"
   ]
  },
  {
   "cell_type": "code",
   "execution_count": 319,
   "id": "0a3e3501",
   "metadata": {},
   "outputs": [
    {
     "name": "stdout",
     "output_type": "stream",
     "text": [
      "<class 'pandas.core.frame.DataFrame'>\n",
      "Index: 110418 entries, 2 to 209967\n",
      "Data columns (total 18 columns):\n",
      " #   Column                Non-Null Count   Dtype  \n",
      "---  ------                --------------   -----  \n",
      " 0   RunID                 110418 non-null  object \n",
      " 1   Country               110418 non-null  object \n",
      " 2   Region                92621 non-null   object \n",
      " 3   Difficulty            97653 non-null   object \n",
      " 4   Color                 110418 non-null  object \n",
      " 5   Lit                   22486 non-null   object \n",
      " 6   InclinedLengthM       106124 non-null  float64\n",
      " 7   DescentM              106124 non-null  float64\n",
      " 8   AveragePitch          104863 non-null  float64\n",
      " 9   MaxPitch              104863 non-null  float64\n",
      " 10  MinElevationM         106124 non-null  float64\n",
      " 11  MaxElevationM         106124 non-null  float64\n",
      " 12  DifficultyConvention  110418 non-null  object \n",
      " 13  OpenSkiMap            110418 non-null  object \n",
      " 14  Geometry              110418 non-null  object \n",
      " 15  Latitude              110418 non-null  float64\n",
      " 16  Longitude             110418 non-null  float64\n",
      " 17  Sources               110418 non-null  object \n",
      "dtypes: float64(8), object(10)\n",
      "memory usage: 16.0+ MB\n"
     ]
    }
   ],
   "source": [
    "runs_clean.info(5)"
   ]
  },
  {
   "cell_type": "markdown",
   "id": "2e9eb10d",
   "metadata": {},
   "source": [
    "### Create SkiAreaRun table"
   ]
  },
  {
   "cell_type": "code",
   "execution_count": 320,
   "id": "60a38692",
   "metadata": {},
   "outputs": [
    {
     "data": {
      "text/html": [
       "<div>\n",
       "<style scoped>\n",
       "    .dataframe tbody tr th:only-of-type {\n",
       "        vertical-align: middle;\n",
       "    }\n",
       "\n",
       "    .dataframe tbody tr th {\n",
       "        vertical-align: top;\n",
       "    }\n",
       "\n",
       "    .dataframe thead th {\n",
       "        text-align: right;\n",
       "    }\n",
       "</style>\n",
       "<table border=\"1\" class=\"dataframe\">\n",
       "  <thead>\n",
       "    <tr style=\"text-align: right;\">\n",
       "      <th></th>\n",
       "      <th>RunID</th>\n",
       "      <th>SkiAreaID</th>\n",
       "    </tr>\n",
       "  </thead>\n",
       "  <tbody>\n",
       "    <tr>\n",
       "      <th>0</th>\n",
       "      <td>a6b03d311564de70c0d81e776da6aadb5a4c2e86</td>\n",
       "      <td>68b126bc3175516c9263aed7635d14e37ff360dc</td>\n",
       "    </tr>\n",
       "    <tr>\n",
       "      <th>1</th>\n",
       "      <td>47b9d1830f9939fe002a5f7be7fb3b57fc99abc2</td>\n",
       "      <td>68b126bc3175516c9263aed7635d14e37ff360dc</td>\n",
       "    </tr>\n",
       "    <tr>\n",
       "      <th>2</th>\n",
       "      <td>816fe1b909837e79b04749efadbf7e56f23d9df7</td>\n",
       "      <td>e97fcb9edb41621f59f89ff2d68890fa6e995426</td>\n",
       "    </tr>\n",
       "    <tr>\n",
       "      <th>3</th>\n",
       "      <td>4e4f42ca1406153137ae17a4f19f782c7f15d35d</td>\n",
       "      <td>8166b06d-0a5f-4100-be9b-cbb332a85879</td>\n",
       "    </tr>\n",
       "    <tr>\n",
       "      <th>4</th>\n",
       "      <td>a6fa9e8715bb087b5be2d01244285c4c63508016</td>\n",
       "      <td>81a8f021565bdd6457901eb52d083dc38f58d2f3</td>\n",
       "    </tr>\n",
       "  </tbody>\n",
       "</table>\n",
       "</div>"
      ],
      "text/plain": [
       "                                      RunID  \\\n",
       "0  a6b03d311564de70c0d81e776da6aadb5a4c2e86   \n",
       "1  47b9d1830f9939fe002a5f7be7fb3b57fc99abc2   \n",
       "2  816fe1b909837e79b04749efadbf7e56f23d9df7   \n",
       "3  4e4f42ca1406153137ae17a4f19f782c7f15d35d   \n",
       "4  a6fa9e8715bb087b5be2d01244285c4c63508016   \n",
       "\n",
       "                                  SkiAreaID  \n",
       "0  68b126bc3175516c9263aed7635d14e37ff360dc  \n",
       "1  68b126bc3175516c9263aed7635d14e37ff360dc  \n",
       "2  e97fcb9edb41621f59f89ff2d68890fa6e995426  \n",
       "3      8166b06d-0a5f-4100-be9b-cbb332a85879  \n",
       "4  81a8f021565bdd6457901eb52d083dc38f58d2f3  "
      ]
     },
     "execution_count": 320,
     "metadata": {},
     "output_type": "execute_result"
    }
   ],
   "source": [
    "ski_area_run = runs[['id', 'ski_area_ids']].dropna()\n",
    "\n",
    "ski_area_run_expanded = ski_area_run.assign(SkiAreaID=ski_area_run['ski_area_ids'].str.split(';')).explode('SkiAreaID')\n",
    "\n",
    "ski_area_run_expanded.rename(columns={'id': 'RunID'}, inplace=True)\n",
    "\n",
    "ski_area_run_expanded['SkiAreaID'] = ski_area_run_expanded['SkiAreaID'].str.strip()\n",
    "ski_area_run_expanded = ski_area_run_expanded.drop(columns=['ski_area_ids'])\n",
    "\n",
    "ski_area_run_expanded.head(5)"
   ]
  },
  {
   "cell_type": "markdown",
   "id": "b052e1de",
   "metadata": {},
   "source": [
    "### Export dataframes to separate .csv files"
   ]
  },
  {
   "cell_type": "code",
   "execution_count": 321,
   "id": "76691e6f",
   "metadata": {},
   "outputs": [],
   "source": [
    "ski_areas_clean.to_csv('clean_ski_area.csv', index=False, na_rep='\\\\N')\n",
    "runs_clean.to_csv('clean_run.csv', index=False, na_rep='\\\\N')\n",
    "websites_expanded.to_csv('clean_ski_area_website.csv', index=False, na_rep='\\\\N')\n",
    "names_expanded.to_csv('clean_ski_area_name.csv', index=False, na_rep='\\\\N')\n",
    "run_names_expanded.to_csv('clean_run_name.csv', index=False, na_rep='\\\\N')\n",
    "ski_area_run_expanded.to_csv('clean_ski_area_run.csv', index=False, na_rep='\\\\N')"
   ]
  }
 ],
 "metadata": {
  "kernelspec": {
   "display_name": "venv",
   "language": "python",
   "name": "python3"
  },
  "language_info": {
   "codemirror_mode": {
    "name": "ipython",
    "version": 3
   },
   "file_extension": ".py",
   "mimetype": "text/x-python",
   "name": "python",
   "nbconvert_exporter": "python",
   "pygments_lexer": "ipython3",
   "version": "3.9.6"
  }
 },
 "nbformat": 4,
 "nbformat_minor": 5
}
